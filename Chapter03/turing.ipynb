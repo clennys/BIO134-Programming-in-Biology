{
 "cells": [
  {
   "cell_type": "markdown",
   "id": "068c59f4-d060-4d60-882c-e8d364b101d1",
   "metadata": {},
   "source": [
    "# Turing's card problem\n",
    "\n",
    "\n",
    "Turing's 1950 article on Computing Machinery and Intelligence. In it, Turing proposes what he calls the 'Imitation Game' (now called the Turing Test). A human 'interrogator' is talking by teletype to two 'witnesses', one human and one a computer. The interrogator's job is to figure out which is which. The human witness's job is to help the interrogator, the computer's job is to confuse the interrogator (that is, pretend to be the human). Turing proposes the ability, if achieved, to fool most human interrogators as an operational definition of intelligence.\n",
    "\n",
    "Much of the article consists of Turing considering and wittily rebutting nine different objections to his proposal. The last of these is that humans are allegedly capable of extra-sensory perception, but computers are not. Turing's discussion includes the following passage.\n",
    "\n",
    "    Let us play the imitation game, using as witnesses a man who is good as a telepathic receiver, and a digital computer. The interrogator can ask such questions as 'What suit does the card in my right hand belong to?' The man by telepathy or clairvoyance gives the right answer 130 times out of 400 cards. The machine can only guess at random, and perhaps get 104 right, so the interrogator makes the right identification.\n",
    "\n",
    "Getting the card suit (clubs (♣), diamonds (♦), hearts (♥) or spades (♠)) right 130 times in 400 trials does not sound so impressive. But let's test it:\n",
    "\n",
    "Your programs will start to get more complicated and take longer to run. We therefore strongly recommend you to save each program as a separate file (for this problem as 3_turing.py for example).\n",
    "\n",
    "### Step 1: the simulation game\n",
    "\n",
    "Write a program that simulates guessing the suits (clubs (♣), diamonds (♦), hearts (♥) or spades (♠)) of 400 cards (from an unlimited pool of cards).\n",
    "\n",
    "There are different ways to do this, the most important aspect being that a correct guess has a probability of 1/4. Thus, you can use the numpy.random.randint() function for this, but you could also use np.random.uniform(0,1), which generates a float between 0 and 1 (including 0, excluding 1) from a uniform distribution.\n",
    "\n",
    "Now we know for how many of the 400 cards our machine is randomly guessing the right suit (likely around 100 times). As it is guessing at random, every time we run the program (or \"play the game\") the number of correct guesses is different. \n",
    "\n",
    "### Step 2: telepathy vs. random guessing\n",
    "\n",
    "Next we want to find out how impressive it is for the man to guess the right suit for at least 130 times (or any other threshold!) out of 400. How likely is it to achieve such a number by random guessing? \n",
    "\n",
    "For this, \"play the imitation game\" 10'000 times, not by manually running your program that often but by expanding your code accordingly. Count the number of times your machine is guessing the right suit at least 130 times. With this, you can then compute the probability of getting at least 130 (or some other threshold) correct by chance.\n",
    "\n",
    "Hint: test the logic of your new code structure first by playing the game (aka running the outer loop) only a handful times. If it does what you expect, only then let it run 10'000 times, as this takes a while. \n"
   ]
  },
  {
   "cell_type": "markdown",
   "id": "56b66c97-54d6-4a2c-b57b-ab04928a255d",
   "metadata": {},
   "source": [
    "## Turing problem \n",
    " In order for the autochecker to work accurately, we'll look at a lower threshold.\n",
    "\n",
    "What is the probability of getting at least 116 correct by chance? "
   ]
  },
  {
   "cell_type": "code",
   "execution_count": 1,
   "id": "028f7194-1630-48da-a49a-b10d55f8f3b4",
   "metadata": {
    "tags": []
   },
   "outputs": [],
   "source": [
    "import numpy as np"
   ]
  },
  {
   "cell_type": "code",
   "execution_count": 15,
   "id": "f4fced7e-bde5-4cd4-81fd-a398de11b6ec",
   "metadata": {
    "tags": []
   },
   "outputs": [
    {
     "data": {
      "text/plain": [
       "0.04"
      ]
     },
     "execution_count": 15,
     "metadata": {},
     "output_type": "execute_result"
    }
   ],
   "source": [
    "guesses = 400\n",
    "threshold = 116\n",
    "nr_over_threshold = 0\n",
    "nr_games = 10000\n",
    "\n",
    "for _ in range(nr_games):\n",
    "    correct_guesses = 0\n",
    "    for _ in range(guesses):\n",
    "        card = np.random.randint(0,4)\n",
    "        guess = np.random.randint(0,4)\n",
    "        if card == guess: correct_guesses += 1\n",
    "    if correct_guesses >= threshold: nr_over_threshold += 1\n",
    "    \n",
    "nr_over_threshold / nr_games\n"
   ]
  }
 ],
 "metadata": {
  "kernelspec": {
   "display_name": "bio",
   "language": "python",
   "name": "bio"
  },
  "language_info": {
   "codemirror_mode": {
    "name": "ipython",
    "version": 3
   },
   "file_extension": ".py",
   "mimetype": "text/x-python",
   "name": "python",
   "nbconvert_exporter": "python",
   "pygments_lexer": "ipython3",
   "version": "3.11.5"
  }
 },
 "nbformat": 4,
 "nbformat_minor": 5
}

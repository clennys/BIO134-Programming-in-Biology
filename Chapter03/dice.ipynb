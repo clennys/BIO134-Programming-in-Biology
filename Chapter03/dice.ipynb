{
 "cells": [
  {
   "cell_type": "markdown",
   "id": "fb9a3f6c-237c-4df9-9bc9-e7b74dd224d4",
   "metadata": {},
   "source": [
    "# Dice\n",
    "\n",
    "## Random numbers and seeds\n",
    "\n",
    "Python and other programming languages generate random numbers using a certain algorithm that produces a sequence with characteristics of actual random numbers. However, the sequence that the algorithm produces is not really random, since it is completely determined by its initial value, the seed. When you use a random function in your code, usually python just takes some seed, for example based on time, so that the random numbers are different every time you run the program. However, you can also define the seed yourself so that the random numbers will be the same every time you run the program. Using a seed can be useful, for example, for debugging. In this course we will use it because of the auto-checkers.\n"
   ]
  },
  {
   "cell_type": "markdown",
   "id": "9c0b84a1-7b6e-42d8-a09d-41de3597e1f9",
   "metadata": {},
   "source": [
    "## Exercise: Rolling dice\n",
    "\n",
    "This simulates the rolling of a dice 30 times. As you can see, a seed has been set, so that the program should generate the same random numbers every time. In this case, the last few random numbers should be 4,5,4,1,3,6,3,6,3. If you changed the seed from 141 to some other number, the program would generate another sequence of random numbers (and the autochecker would no longer work...)\n",
    "Extend the program to print the number of times a 6 was obtained."
   ]
  },
  {
   "cell_type": "code",
   "execution_count": 2,
   "id": "06930ab3-ba79-4577-9c64-328d36aadff9",
   "metadata": {
    "tags": []
   },
   "outputs": [
    {
     "name": "stdout",
     "output_type": "stream",
     "text": [
      "5\n"
     ]
    }
   ],
   "source": [
    "import numpy.random as rd\n",
    "rd.seed(141)\n",
    "counter = 0\n",
    "for n in range(30):\n",
    "    r = rd.randint(1,7)\n",
    "    if r == 6: counter += 1\n",
    "    # print(r)\n",
    "print(counter)"
   ]
  },
  {
   "cell_type": "markdown",
   "id": "a8154d30-c37f-4595-b96a-52f15b40aa8f",
   "metadata": {},
   "source": [
    "## Exercise: Rolling dice repeated \n",
    "Suppose you're playing a dice game with a friend of yours and, after rolling a dice 30 times, he has 10 sixes. Is he just lucky or is he cheating? In order to find out, you decide to change the program you just made to simulate the game 10 times. The program should now print 10 numbers: the number of sixes for each of the simulated games.\n",
    "- How many times does the program print a number that is 10 or higher?\n",
    "- What is, estimated based on this simulation, the probability that your friend is honest?"
   ]
  },
  {
   "cell_type": "code",
   "execution_count": 7,
   "id": "de593117-f168-46c4-a35d-984d01494ca3",
   "metadata": {
    "tags": []
   },
   "outputs": [
    {
     "name": "stdout",
     "output_type": "stream",
     "text": [
      "5\n",
      "3\n",
      "5\n",
      "6\n",
      "10\n",
      "2\n",
      "2\n",
      "0\n",
      "6\n",
      "8\n"
     ]
    }
   ],
   "source": [
    "import numpy.random as rd\n",
    "rd.seed(141)\n",
    "for _ in range(10):\n",
    "    counter = 0\n",
    "    for n in range(30):\n",
    "        r = rd.randint(1,7)\n",
    "        if r == 6: counter += 1\n",
    "        # print(r)\n",
    "    print(counter)"
   ]
  },
  {
   "cell_type": "markdown",
   "id": "1ffee766-8e0c-4c41-8f73-5d4be87e9bc3",
   "metadata": {},
   "source": [
    "# Heads and tails"
   ]
  },
  {
   "cell_type": "code",
   "execution_count": 14,
   "id": "cac3b842-b7f8-46c2-9309-38e2ac521c87",
   "metadata": {
    "tags": []
   },
   "outputs": [
    {
     "name": "stdout",
     "output_type": "stream",
     "text": [
      "8\n"
     ]
    }
   ],
   "source": [
    "import numpy.random as rd\n",
    "rd.seed(13)\n",
    "prev = -1\n",
    "counter = 1\n",
    "max_counter = 0\n",
    "for n in range(1000):\n",
    "    r = rd.randint(1,3)\n",
    "    if prev == r:\n",
    "        counter += 1\n",
    "    else:\n",
    "        counter = 1\n",
    "    if max_counter < counter:\n",
    "        max_counter = counter\n",
    "    prev = r\n",
    "    # print(r)\n",
    "print(max_counter)"
   ]
  }
 ],
 "metadata": {
  "kernelspec": {
   "display_name": "bio",
   "language": "python",
   "name": "bio"
  },
  "language_info": {
   "codemirror_mode": {
    "name": "ipython",
    "version": 3
   },
   "file_extension": ".py",
   "mimetype": "text/x-python",
   "name": "python",
   "nbconvert_exporter": "python",
   "pygments_lexer": "ipython3",
   "version": "3.11.5"
  }
 },
 "nbformat": 4,
 "nbformat_minor": 5
}

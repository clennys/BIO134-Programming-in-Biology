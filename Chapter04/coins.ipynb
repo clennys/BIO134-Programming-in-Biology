{
 "cells": [
  {
   "cell_type": "markdown",
   "id": "689d3a36-d18b-4d52-a5b4-3b41c1b57b72",
   "metadata": {},
   "source": [
    "# Coins\n",
    "Previously you had to simulate the tossing of a coin a thousand times and determine the longest sequence of consecutive 1s or 2s. Modify this code to find out how many coin tosses are necessary to encounter a sequence of at least eight 1s or 2s for the first time. Since you don't know how often you will have to simulate the tossing, you should use a while-loop. Please simulate the tossing as you did before, but using the following seed:\n",
    "```python\n",
    "import numpy.random as rd\n",
    "rd.seed(0)\n",
    "\n",
    "r = rd.randint(1,3)\n",
    "```"
   ]
  },
  {
   "cell_type": "markdown",
   "id": "74e42daa-2f7a-4354-b884-3606cfad8464",
   "metadata": {},
   "source": [
    "## Coins and while \n",
    "How many tosses do you need?"
   ]
  },
  {
   "cell_type": "code",
   "execution_count": 5,
   "id": "a34da615-4965-4b43-b214-4073ba73feb3",
   "metadata": {
    "tags": []
   },
   "outputs": [
    {
     "name": "stdout",
     "output_type": "stream",
     "text": [
      "321\n"
     ]
    }
   ],
   "source": [
    "import numpy.random as rd\n",
    "rd.seed(0)\n",
    "prev = -1\n",
    "counter = 1\n",
    "loop = 0\n",
    "while counter < 8:\n",
    "    r = rd.randint(1,3)\n",
    "    if prev == r:\n",
    "        counter += 1\n",
    "    else:\n",
    "        counter = 1\n",
    "    prev = r\n",
    "    loop += 1\n",
    "print(loop)"
   ]
  }
 ],
 "metadata": {
  "kernelspec": {
   "display_name": "bio",
   "language": "python",
   "name": "bio"
  },
  "language_info": {
   "codemirror_mode": {
    "name": "ipython",
    "version": 3
   },
   "file_extension": ".py",
   "mimetype": "text/x-python",
   "name": "python",
   "nbconvert_exporter": "python",
   "pygments_lexer": "ipython3",
   "version": "3.11.5"
  }
 },
 "nbformat": 4,
 "nbformat_minor": 5
}

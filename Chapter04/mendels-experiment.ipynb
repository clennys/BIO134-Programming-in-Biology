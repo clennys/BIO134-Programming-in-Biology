{
 "cells": [
  {
   "cell_type": "markdown",
   "id": "b680a115-e8f6-44fe-bf6f-aa795d8af59c",
   "metadata": {},
   "source": [
    "# Mendel's experiments\n",
    "Mendel studied 7 traits for his famous studies on peas: flower position, flower color, plant height, pea shape, pea color, pod shape, and pod color. He performed monohybrid crosses between plants that are homozygous for the trait. Thus, in the F1 generation, all plants had the dominant phenotype. He then selfed these plants and determined the ratio between plants with the dominant and those with the recessive phenotype. The theoretically expected ratio is 3:1 in this case. Then he selected F2 plants with a dominant phenotype and selfed these plants. He subsequently determined the ratio between F2 plants that give rise to F3 plants with both phenotypes and those that give rise to F3 plants with the dominant phenotype only. The expected ratio is 2:1 in this case. His results are shown in the table below (modified from Fairbanks and Rytting, 2001). \n",
    "\n",
    "The question is whether Mendel's numbers are too good to be true, i.e. closer to the expected values than expected based on chance, and whether Mendel thus cheated.\n",
    "\n",
    "### Additional Background Information for Non-Biologists\n",
    "- Pea flowers contain both male and female parts, called stamen and stigma, and usually self-pollinate. Self-pollination (transfer of pollen from the male to female part of the same flower) happens before the flowers open, so progeny (offspring of a plant) are produced from a single plant. \n",
    "- Peas can also be cross-pollinated by hand, simply by opening the flower buds to remove their pollen-producing stamen (and prevent self-pollination) and dusting pollen from one plant onto the stigma of another.\n",
    "![self-pollination](./images/pollination.jpg)\n",
    "- Mendel described each of the trait variants as dominant or recessiveDominant traits, like purple flower colour, appeared in the F1 hybrids, whereas recessive traits (two copies of alleles need to be present in order to be expressed), like white flower colour, did not.\n",
    "- Mendel did thousands of cross-breeding experiments. His key finding was that there were 3 times as many dominant as recessive traits in F2 pea plants (3:1 ratio).\n",
    "![cross-polination](./images/cross-pollination.jpg)\n",
    "\n",
    "\n",
    "### Example: Mendel's experiments on plant height\n",
    "\n",
    "The figure below shows Mendel's experiments exemplified on one trait - the plant height (called stem length in the table below; see 7. and 14.). The dominant phenotype of the plant height is \"Long\" (red box) and the recessive phenotype is \"Short\" (blue box).\n",
    "![Mendel](./images/Mendel.png)\n",
    "\n",
    "### Table: Mendel's results \n",
    "\n",
    "Mendel's results are shown in the table below (modified from Fairbanks and Rytting, 2001).\n",
    "![Table-Mendel](./images/table_mendel.png)\n",
    "\n",
    "\n",
    "In this exercise you will simulate Mendel's experiments a large number of times. You will then compare the thereby obtained plant numbers to Mendel's results. If Mendel's results are systematically closer to the theoretically expected numbers than your simulated results, chances are that Mendel cheated."
   ]
  },
  {
   "cell_type": "markdown",
   "id": "b48bae45-808f-403b-9012-1cb7ced9e0e7",
   "metadata": {},
   "source": [
    "## Simulating a cross\n",
    "Let's first see how to simulate a single cross, or more specifically the formation of one offspring. There are several ways to do this. Which of the following options could be used to obtain the F2-generation for the Mendel problem, i.e. generate offspring with dominant phenotypes with the right probability? Assume that the numpy library has already been imported as np and that the variable 'sim_dom' has been initialized before."
   ]
  }
 ],
 "metadata": {
  "kernelspec": {
   "display_name": "bio",
   "language": "python",
   "name": "bio"
  },
  "language_info": {
   "codemirror_mode": {
    "name": "ipython",
    "version": 3
   },
   "file_extension": ".py",
   "mimetype": "text/x-python",
   "name": "python",
   "nbconvert_exporter": "python",
   "pygments_lexer": "ipython3",
   "version": "3.11.5"
  }
 },
 "nbformat": 4,
 "nbformat_minor": 5
}

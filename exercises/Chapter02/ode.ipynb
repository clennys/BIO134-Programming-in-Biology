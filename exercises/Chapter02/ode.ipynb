{
 "cells": [
  {
   "cell_type": "markdown",
   "id": "399e11da-1d3e-4564-afab-f502f4181297",
   "metadata": {},
   "source": [
    "# Numerically solving ODEs\n",
    "In this unit we will numerically solve a set of ordinary differential equations (ODEs) that is related to the predator-prey (fox-rabbit) model in the previous unit."
   ]
  },
  {
   "cell_type": "markdown",
   "id": "c970a6f8-ca95-4ce1-938f-0715a88700e7",
   "metadata": {},
   "source": [
    "## Predator and prey prolonged\n",
    "Use the same predator and prey model as for the previous unit (not the warm-ups), but test how many foxes and rabbits are present after 1542 days instead of 200.\n",
    "(Simply enter the output even if you are puzzled by it. )"
   ]
  },
  {
   "cell_type": "code",
   "execution_count": 2,
   "id": "a8ae260d-d364-443f-9a00-5c554cc095fd",
   "metadata": {
    "tags": []
   },
   "outputs": [],
   "source": [
    "def rabbit_inc_per_day(population_rabbit):\n",
    "    return population_rabbit * 0.05\n",
    "\n",
    "\n",
    "def rabbit_dec_per_day(population_rabbits, population_foxes):\n",
    "    return 0.0002 * population_foxes * population_rabbits\n",
    "\n",
    "\n",
    "def foxes_dec_per_day(population_foxes):\n",
    "    return population_foxes * 0.1\n",
    "\n",
    "\n",
    "def foxes_inc_per_day(population_foxes, population_rabbits):\n",
    "    return 0.0001 * population_foxes * population_rabbits"
   ]
  },
  {
   "cell_type": "code",
   "execution_count": 6,
   "id": "2a8dad13-bd60-4b78-97e4-617ffb4bedbd",
   "metadata": {
    "tags": []
   },
   "outputs": [
    {
     "name": "stdout",
     "output_type": "stream",
     "text": [
      "-298914 -216\n"
     ]
    }
   ],
   "source": [
    "days = 1542\n",
    "init_pop_fox = 100\n",
    "init_pop_rabbits = 1000\n",
    "\n",
    "res_rabbits = init_pop_rabbits\n",
    "res_foxes = init_pop_fox\n",
    "\n",
    "for day in range(days):\n",
    "    pop_rabbits = res_rabbits\n",
    "    pop_foxes = res_foxes\n",
    "    res_rabbits += rabbit_inc_per_day(pop_rabbits) - rabbit_dec_per_day(\n",
    "        pop_rabbits, pop_foxes\n",
    "    )\n",
    "    res_foxes += foxes_inc_per_day(pop_foxes, pop_rabbits) - foxes_dec_per_day(\n",
    "        pop_foxes\n",
    "    )\n",
    "print(int(res_rabbits), int(res_foxes))"
   ]
  },
  {
   "cell_type": "markdown",
   "id": "5d585d9f-11b9-45f8-94d3-b4d172b13ab0",
   "metadata": {},
   "source": [
    "## Update every hour \n",
    "The above artefact may be prevented by updating the populations each hour instead of each day. This decreases the probability of negative populations, since the number of animals that die during an hour is smaller than the number that die during a day. In addition, since the populations are updated more often, a decrease in population size will more quickly lead to a decrease in death rate, since death rate depends on population size.\n",
    "\n",
    "Change the model and update the populations each (simulated) hour. Assume that the population change per hour is equal to the population change per day divided by 24. For example, in day one the rabbit population increases by 30 (50 rabbits (net) born, 20 eaten by a fox) whereas in hour one the rabbit population increases by 30/24 (50/24 born, 20/24 eaten).\n",
    "Simulate 200 days."
   ]
  },
  {
   "cell_type": "code",
   "execution_count": 4,
   "id": "2eba5978-4116-44e3-af73-4217ce271ab8",
   "metadata": {
    "tags": []
   },
   "outputs": [
    {
     "name": "stdout",
     "output_type": "stream",
     "text": [
      "1514 142\n"
     ]
    }
   ],
   "source": [
    "days = 200\n",
    "hours_per_day = 24\n",
    "init_pop_fox = 100\n",
    "init_pop_rabbits = 1000\n",
    "\n",
    "res_rabbits = init_pop_rabbits\n",
    "res_foxes = init_pop_fox\n",
    "\n",
    "for day in range(days * hours_per_day):\n",
    "    pop_rabbits = res_rabbits\n",
    "    pop_foxes = res_foxes\n",
    "    res_rabbits += (\n",
    "        rabbit_inc_per_day(pop_rabbits) - rabbit_dec_per_day(pop_rabbits, pop_foxes)\n",
    "    ) / hours_per_day\n",
    "    res_foxes += (\n",
    "        foxes_inc_per_day(pop_foxes, pop_rabbits) - foxes_dec_per_day(pop_foxes)\n",
    "    ) / hours_per_day\n",
    "    \n",
    "print(int(res_rabbits), int(res_foxes))"
   ]
  },
  {
   "cell_type": "markdown",
   "id": "42871fd4-af67-46fe-9bad-91edbe87df7f",
   "metadata": {},
   "source": [
    " ## Update every minute \n",
    " By updating the model each hour, the negative populations disappeared. However, the model would be somewhat more realistic if birth and death rates would be continuously adjusted to the current population sizes.\n",
    "\n",
    "Change the model and update the populations each minute now instead of each hour. Simulate 200 days again."
   ]
  },
  {
   "cell_type": "code",
   "execution_count": 12,
   "id": "9c87e579-75cc-4b91-962a-264227727b44",
   "metadata": {
    "tags": []
   },
   "outputs": [
    {
     "name": "stdout",
     "output_type": "stream",
     "text": [
      "1510 146\n"
     ]
    }
   ],
   "source": [
    "days = 200\n",
    "hours_per_day = 24\n",
    "minutes_per_hour = 60\n",
    "delta_t = 1/(hours_per_day*minutes_per_hour)\n",
    "init_pop_fox = 100\n",
    "init_pop_rabbits = 1000\n",
    "\n",
    "res_rabbits = init_pop_rabbits\n",
    "res_foxes = init_pop_fox\n",
    "\n",
    "for day in range(days * hours_per_day * minutes_per_hour):\n",
    "    pop_rabbits = res_rabbits\n",
    "    pop_foxes = res_foxes\n",
    "    res_rabbits += (\n",
    "        rabbit_inc_per_day(pop_rabbits) - rabbit_dec_per_day(pop_rabbits, pop_foxes)\n",
    "    ) * delta_t\n",
    "    res_foxes += (\n",
    "        foxes_inc_per_day(pop_foxes, pop_rabbits) - foxes_dec_per_day(pop_foxes)\n",
    "    ) * delta_t\n",
    "\n",
    "print(int(res_rabbits), int(res_foxes))"
   ]
  }
 ],
 "metadata": {
  "kernelspec": {
   "display_name": "bio",
   "language": "python",
   "name": "bio"
  },
  "language_info": {
   "codemirror_mode": {
    "name": "ipython",
    "version": 3
   },
   "file_extension": ".py",
   "mimetype": "text/x-python",
   "name": "python",
   "nbconvert_exporter": "python",
   "pygments_lexer": "ipython3",
   "version": "3.11.5"
  }
 },
 "nbformat": 4,
 "nbformat_minor": 5
}

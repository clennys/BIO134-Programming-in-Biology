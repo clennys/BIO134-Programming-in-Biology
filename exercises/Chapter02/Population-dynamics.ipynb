{
 "cells": [
  {
   "cell_type": "markdown",
   "id": "67ada3f6-0509-4950-8a5a-5c133bd85761",
   "metadata": {},
   "source": [
    "# Population dynamics\n",
    "The number of predators and prey in a region depend on each other. Let's make the following assumptions for a model describing these relationships between foxes (predator) and rabbits (prey): \n",
    "\n",
    "Rabbits have unlimited food supply. Thus, the rabbit population increases by 5% each day as the net result of birth and natural death. At the same time, the rabbit population is decreased by the presence of foxes. The decrease is proportional to the number of encounters between rabbits and foxes. The more foxes there are, the more rabbits are being caught and the more rabbits there are, the easier it is for foxes to catch the rabbits. Specifically, each day the rabbit population is reduced by 0.0002*(number of foxes)*(number of rabbits).\n",
    "\n",
    "The fox population decreases by 10% per day as the net result of birth and natural death independent of the number of rabbits. The presence of rabbits has a positive influence on the number of foxes. This depends on how many rabbits are being caught and this is again dependent on the number of foxes as well as the number of rabbits. The increase amounts to 0.0001*(number of foxes)*(number of rabbits) each day.\n",
    "\n",
    "Note that in order to calculate the changes in fox and rabbit populations, you should use the fox and rabbit numbers from the start of the day."
   ]
  },
  {
   "cell_type": "code",
   "execution_count": 2,
   "id": "cd3062e5-3331-42c7-b8c8-f16bf65a6f78",
   "metadata": {},
   "outputs": [],
   "source": [
    "def rabbit_inc_per_day(population_rabbit):\n",
    "    return population_rabbit * 0.05\n",
    "\n",
    "def rabbit_dec_per_day(population_rabbits, population_foxes):\n",
    "    return  0.0002 * population_foxes * population_rabbits\n",
    "\n",
    "def foxes_dec_per_day(population_foxes):\n",
    "    return population_foxes * 0.1\n",
    "\n",
    "def foxes_inc_per_day(population_foxes, population_rabbits):\n",
    "    return 0.0001 * population_foxes * population_rabbits\n",
    "    "
   ]
  },
  {
   "cell_type": "markdown",
   "id": "24888bca-2a08-4382-9049-149fa1868d1e",
   "metadata": {},
   "source": [
    "## Warm-up 1\n",
    "Simulate how large the rabbit population will be in the absence of foxes after 40 days (initial population: 1000, increase of 5% a day). Don’t calculate the outcome directly, but use a loop instead. The program should go through this loop 40 times and increase the population by 5% each time it goes through the loop. "
   ]
  },
  {
   "cell_type": "code",
   "execution_count": 3,
   "id": "ee9d2a93-64f2-4338-a238-c4721c4ce4a4",
   "metadata": {
    "tags": []
   },
   "outputs": [
    {
     "data": {
      "text/plain": [
       "7039"
      ]
     },
     "execution_count": 3,
     "metadata": {},
     "output_type": "execute_result"
    }
   ],
   "source": [
    "days = 40\n",
    "init_pop_rabbits = 1000\n",
    "\n",
    "pop_rabbits = init_pop_rabbits\n",
    "for day in range(days):\n",
    "    pop_rabbits += rabbit_inc_per_day(pop_rabbits)\n",
    "    \n",
    "int(pop_rabbits)"
   ]
  },
  {
   "cell_type": "markdown",
   "id": "7589acfd-b4d2-48d3-9341-70e18b87f6b6",
   "metadata": {},
   "source": [
    "## Warm-up 2 \n",
    "If foxes are present, the daily change in rabbit population (prey) will be: $0.05*rabbit-0.0002*fox*rabbit$. Simulate the hypothetical case that the fox population does not change and is always 100. What will the rabbit population be after 10 days if it starts with 1000? Your program should work with float without rounding, except for the final answer, which is to be rounded down to an integer. "
   ]
  },
  {
   "cell_type": "code",
   "execution_count": 6,
   "id": "d3fc0569-610a-4035-a7c1-f29b7b120b73",
   "metadata": {},
   "outputs": [
    {
     "data": {
      "text/plain": [
       "1343"
      ]
     },
     "execution_count": 6,
     "metadata": {},
     "output_type": "execute_result"
    }
   ],
   "source": [
    "days = 10\n",
    "init_pop_fox = 100\n",
    "\n",
    "pop_rabbits = init_pop_rabbits\n",
    "pop_foxes = init_pop_fox\n",
    "for day in range(days):\n",
    "    pop_rabbits += rabbit_inc_per_day(pop_rabbits) - rabbit_dec_per_day(pop_rabbits, pop_foxes)\n",
    "    \n",
    "int(pop_rabbits)"
   ]
  },
  {
   "cell_type": "markdown",
   "id": "d15f1006-48f9-46b7-a6a9-20cd7e875ffd",
   "metadata": {},
   "source": [
    "## Exercise\n",
    "Enter the numbers of foxes and rabbits respectively after 200 days, if there are 100 foxes and 1000 rabbits present in the beginning. Your program should work with float without rounding, except for the final answer, which is to be rounded down to an integer (manually)."
   ]
  },
  {
   "cell_type": "code",
   "execution_count": 8,
   "id": "39eb23c7-acc5-4cfe-95dd-f8dc0aa8a142",
   "metadata": {
    "tags": []
   },
   "outputs": [
    {
     "name": "stdout",
     "output_type": "stream",
     "text": [
      "1379 58\n"
     ]
    }
   ],
   "source": [
    "days = 200\n",
    "init_pop_fox = 100\n",
    "init_pop_rabbits = 1000\n",
    "\n",
    "res_rabbits = init_pop_rabbits\n",
    "res_foxes = init_pop_fox\n",
    "\n",
    "for day in range(days):\n",
    "    pop_rabbits = res_rabbits\n",
    "    pop_foxes = res_foxes\n",
    "    res_rabbits += rabbit_inc_per_day(pop_rabbits) - rabbit_dec_per_day(pop_rabbits, pop_foxes)\n",
    "    res_foxes += foxes_inc_per_day(pop_foxes, pop_rabbits) - foxes_dec_per_day(pop_foxes)\n",
    "    # print(pop_rabbits, pop_foxes, res_rabbits, res_foxes)\n",
    "\n",
    "print(int(res_rabbits), int(res_foxes))"
   ]
  }
 ],
 "metadata": {
  "kernelspec": {
   "display_name": "bio",
   "language": "python",
   "name": "bio"
  },
  "language_info": {
   "codemirror_mode": {
    "name": "ipython",
    "version": 3
   },
   "file_extension": ".py",
   "mimetype": "text/x-python",
   "name": "python",
   "nbconvert_exporter": "python",
   "pygments_lexer": "ipython3",
   "version": "3.11.5"
  }
 },
 "nbformat": 4,
 "nbformat_minor": 5
}

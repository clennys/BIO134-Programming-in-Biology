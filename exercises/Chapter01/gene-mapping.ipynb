{
 "cells": [
  {
   "cell_type": "markdown",
   "id": "2a3d4640-602f-40d8-92dd-037d14d5a685",
   "metadata": {},
   "source": [
    "# Gene Mapping\n",
    "In case a genome has not been sequenced, the distance between two genes can still be estimated based on the frequency of crossovers that occur during meiosis. The image below shows that a crossover results in a recombination frequency of 50%.\n",
    "The map distance (d) can be estimated based on the recombination frequency $f_{rec}$ using Haldane’s mapping equation:\n",
    "$$ d = -\\frac{1}{2} \\ln(1-2f_{rec}) $$"
   ]
  },
  {
   "cell_type": "code",
   "execution_count": 7,
   "id": "ad94271b-8423-4a44-aa9f-580be1741f94",
   "metadata": {
    "tags": []
   },
   "outputs": [
    {
     "name": "stdin",
     "output_type": "stream",
     "text": [
      "Recombination frequency, pls? 0.087\n"
     ]
    },
    {
     "name": "stdout",
     "output_type": "stream",
     "text": [
      "The map distance is 0.096\n"
     ]
    }
   ],
   "source": [
    "import numpy as np\n",
    "f_rec = float(input(\"Recombination frequency, pls?\"))\n",
    "\n",
    "if f_rec < 0 or f_rec >= 0.5:\n",
    "    print(\"The recombination frequency must be equal to or higher than 0 and lower than 0.5.\")\n",
    "else:\n",
    "    dist = -0.5 * np.log(1-2*f_rec)\n",
    "    print(f\"The map distance is {dist:.3f}\")"
   ]
  }
 ],
 "metadata": {
  "kernelspec": {
   "display_name": "bio",
   "language": "python",
   "name": "bio"
  },
  "language_info": {
   "codemirror_mode": {
    "name": "ipython",
    "version": 3
   },
   "file_extension": ".py",
   "mimetype": "text/x-python",
   "name": "python",
   "nbconvert_exporter": "python",
   "pygments_lexer": "ipython3",
   "version": "3.11.5"
  }
 },
 "nbformat": 4,
 "nbformat_minor": 5
}
